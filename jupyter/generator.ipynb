{
 "cells": [
  {
   "cell_type": "markdown",
   "metadata": {},
   "source": [
    "## Travel Dataset Generator\n",
    "\n",
    "This code generate a dataset of travel operations, _e.g._ , plane tickets and lodging."
   ]
  },
  {
   "cell_type": "code",
   "execution_count": 1,
   "metadata": {
    "ExecuteTime": {
     "end_time": "2019-09-23T18:36:09.677830Z",
     "start_time": "2019-09-23T18:36:09.235894Z"
    }
   },
   "outputs": [],
   "source": [
    "# Import packages\n",
    "import names\n",
    "import pandas\n",
    "import random\n",
    "import tqdm"
   ]
  },
  {
   "cell_type": "markdown",
   "metadata": {},
   "source": [
    "---\n",
    "### Definitions\n",
    "\n",
    "Predefine some variables."
   ]
  },
  {
   "cell_type": "code",
   "execution_count": 2,
   "metadata": {
    "ExecuteTime": {
     "end_time": "2019-09-23T18:36:09.685753Z",
     "start_time": "2019-09-23T18:36:09.678771Z"
    }
   },
   "outputs": [],
   "source": [
    "#- Companies and Users\n",
    "defGenders = ['male', 'female', 'none']\n",
    "defAgesInterval = {'min': 23, 'max': 50}\n",
    "defFlightsInterval = {'min': 0, 'max': 50}\n",
    "defCompanies = {\n",
    "    'ABC': {'usersCount': 5},\n",
    "    'J3D': {'usersCount': 3},\n",
    "    'HHD': {'usersCount': 11},\n",
    "    '4You': {'usersCount': 7},\n",
    "    'FaceTube': {'usersCount': 6},\n",
    "}\n",
    "\n",
    "#- Flight Agencies\n",
    "defFlightTypes = {\n",
    "    'economic': {'price': 1.0},\n",
    "    'premium': {'price': 1.8},\n",
    "    'firstClass': {'price': 2.3},\n",
    "}\n",
    "defAgenciesName = ['FlyingDrops', 'Rainbow', 'CloudFy']\n",
    "defAgencies = dict()\n",
    "\n",
    "#- Places\n",
    "defPlacesName = [\n",
    "    'Acre (AC)', 'Distrito Federal (DF)',\n",
    "    'Pernambuco (PE)', 'Sao Paulo (SP)',\n",
    "    'Rio de Janeiro (RJ)', 'Santa Catarina (SC)'\n",
    "]\n",
    "defPlaces = {name: dict() for name in defPlacesName}\n",
    "defDistancesInterval = {'min': 200.0, 'max': 850.0}\n",
    "\n",
    "#- Lodge (Accommodation)\n",
    "defLodgesInterval = {'min': 1, 'max': 5}"
   ]
  },
  {
   "cell_type": "markdown",
   "metadata": {},
   "source": [
    "---\n",
    "### Companies and Users - Generator"
   ]
  },
  {
   "cell_type": "code",
   "execution_count": 3,
   "metadata": {
    "ExecuteTime": {
     "end_time": "2019-09-23T18:36:09.700766Z",
     "start_time": "2019-09-23T18:36:09.688744Z"
    }
   },
   "outputs": [],
   "source": [
    "#- Functions\n",
    "def funcUserGenerator(genders, agesInterval, flightsInterval, code):\n",
    "    '''\n",
    "    Generate random user, based on predefinitions.\n",
    "    - genders: list\n",
    "    - agesInterval {min, max}\n",
    "    - flightsInterval {min, max}\n",
    "    - code: number\n",
    "    '''\n",
    "    user = dict()\n",
    "    user['code'] = code\n",
    "    user['gender'] = genders[random.randint(0, len(genders)-1)]\n",
    "    gender = user['gender'] if (user['gender'] != 'none') else False\n",
    "    user['name'] = names.get_full_name(gender=gender)\n",
    "    user['age'] = random.randint(agesInterval['min'], agesInterval['max'])\n",
    "    user['flights'] = random.randint(flightsInterval['min'], flightsInterval['max'])\n",
    "    return user"
   ]
  },
  {
   "cell_type": "code",
   "execution_count": 4,
   "metadata": {
    "ExecuteTime": {
     "end_time": "2019-09-23T18:36:09.928138Z",
     "start_time": "2019-09-23T18:36:09.702707Z"
    }
   },
   "outputs": [],
   "source": [
    "#- Fill Companies data\n",
    "userId = 0\n",
    "for company, data in defCompanies.items():\n",
    "    users = list()\n",
    "    for idx in range(data['usersCount']):\n",
    "        user = funcUserGenerator(defGenders, defAgesInterval, defFlightsInterval, userId)\n",
    "        users.append(user)\n",
    "        userId += 1\n",
    "    defCompanies[company]['users'] = users"
   ]
  },
  {
   "cell_type": "markdown",
   "metadata": {},
   "source": [
    "Example"
   ]
  },
  {
   "cell_type": "code",
   "execution_count": 5,
   "metadata": {
    "ExecuteTime": {
     "end_time": "2019-09-23T18:36:09.938078Z",
     "start_time": "2019-09-23T18:36:09.929137Z"
    }
   },
   "outputs": [
    {
     "data": {
      "text/plain": [
       "[{'code': 5,\n",
       "  'gender': 'male',\n",
       "  'name': 'John Neeley',\n",
       "  'age': 49,\n",
       "  'flights': 34},\n",
       " {'code': 6,\n",
       "  'gender': 'male',\n",
       "  'name': 'Gaston Saadd',\n",
       "  'age': 40,\n",
       "  'flights': 28},\n",
       " {'code': 7,\n",
       "  'gender': 'female',\n",
       "  'name': 'Jennifer Jones',\n",
       "  'age': 33,\n",
       "  'flights': 11}]"
      ]
     },
     "execution_count": 5,
     "metadata": {},
     "output_type": "execute_result"
    }
   ],
   "source": [
    "defCompanies['J3D']['users']"
   ]
  },
  {
   "cell_type": "markdown",
   "metadata": {},
   "source": [
    "### Flight Agencies - Generator"
   ]
  },
  {
   "cell_type": "code",
   "execution_count": 6,
   "metadata": {
    "ExecuteTime": {
     "end_time": "2019-09-23T18:36:09.951105Z",
     "start_time": "2019-09-23T18:36:09.939075Z"
    }
   },
   "outputs": [],
   "source": [
    "#- Functions\n",
    "def funcAgencyGenerator(flightTypes):\n",
    "    '''\n",
    "    Generate random agency services, based on predefinitions.\n",
    "    - flightTypes: keys\n",
    "    '''\n",
    "    agency = dict()\n",
    "    types = list(flightTypes.copy().keys())\n",
    "    random.shuffle(types)\n",
    "    typesMany = random.randint(1, len(types))\n",
    "    agency['types'] = [types[i] for i in range(typesMany)]\n",
    "    return agency"
   ]
  },
  {
   "cell_type": "code",
   "execution_count": 7,
   "metadata": {
    "ExecuteTime": {
     "end_time": "2019-09-23T18:36:09.964008Z",
     "start_time": "2019-09-23T18:36:09.954035Z"
    }
   },
   "outputs": [],
   "source": [
    "for agency in defAgenciesName:\n",
    "    defAgencies[agency] = funcAgencyGenerator(defFlightTypes)"
   ]
  },
  {
   "cell_type": "markdown",
   "metadata": {},
   "source": [
    "Example"
   ]
  },
  {
   "cell_type": "code",
   "execution_count": 8,
   "metadata": {
    "ExecuteTime": {
     "end_time": "2019-09-23T18:36:09.977983Z",
     "start_time": "2019-09-23T18:36:09.966003Z"
    }
   },
   "outputs": [
    {
     "data": {
      "text/plain": [
       "{'FlyingDrops': {'types': ['economic', 'premium']},\n",
       " 'Rainbow': {'types': ['economic', 'firstClass']},\n",
       " 'CloudFy': {'types': ['economic', 'firstClass']}}"
      ]
     },
     "execution_count": 8,
     "metadata": {},
     "output_type": "execute_result"
    }
   ],
   "source": [
    "defAgencies"
   ]
  },
  {
   "cell_type": "markdown",
   "metadata": {},
   "source": [
    "### Place Distances - Generator"
   ]
  },
  {
   "cell_type": "code",
   "execution_count": 9,
   "metadata": {
    "ExecuteTime": {
     "end_time": "2019-09-23T18:36:09.987974Z",
     "start_time": "2019-09-23T18:36:09.979966Z"
    }
   },
   "outputs": [],
   "source": [
    "#- Functions\n",
    "def funcDistanceGenerator(i, j, distInterval):\n",
    "    '''\n",
    "    Generate random place distances, based on predefinitions.\n",
    "    - i: number\n",
    "    - j: number\n",
    "    - distInterval {min, max} values\n",
    "    '''\n",
    "    distance = 0.0\n",
    "    if i == j:\n",
    "        return distance\n",
    "    distance = round(random.uniform(distInterval['min'], distInterval['max']), 2)\n",
    "    return distance"
   ]
  },
  {
   "cell_type": "code",
   "execution_count": 10,
   "metadata": {
    "ExecuteTime": {
     "end_time": "2019-09-23T18:36:09.998990Z",
     "start_time": "2019-09-23T18:36:09.989939Z"
    }
   },
   "outputs": [],
   "source": [
    "n = len(defPlacesName)\n",
    "for i in range(n):\n",
    "    for j in range(i, n):\n",
    "        fromPlace = defPlacesName[i]\n",
    "        toPlace = defPlacesName[j]\n",
    "        distance = funcDistanceGenerator(i, j, defDistancesInterval)\n",
    "        defPlaces[fromPlace][toPlace] = distance\n",
    "        defPlaces[toPlace][fromPlace] = distance"
   ]
  },
  {
   "cell_type": "markdown",
   "metadata": {},
   "source": [
    "Example"
   ]
  },
  {
   "cell_type": "code",
   "execution_count": 11,
   "metadata": {
    "ExecuteTime": {
     "end_time": "2019-09-23T18:36:10.012909Z",
     "start_time": "2019-09-23T18:36:09.999912Z"
    }
   },
   "outputs": [
    {
     "data": {
      "text/plain": [
       "{'Acre (AC)': 0.0,\n",
       " 'Distrito Federal (DF)': 840.38,\n",
       " 'Pernambuco (PE)': 226.06,\n",
       " 'Sao Paulo (SP)': 256.65,\n",
       " 'Rio de Janeiro (RJ)': 349.91,\n",
       " 'Santa Catarina (SC)': 732.66}"
      ]
     },
     "execution_count": 11,
     "metadata": {},
     "output_type": "execute_result"
    }
   ],
   "source": [
    "defPlaces['Acre (AC)']"
   ]
  },
  {
   "cell_type": "markdown",
   "metadata": {},
   "source": [
    "### Place Distances - Generator"
   ]
  },
  {
   "cell_type": "code",
   "execution_count": null,
   "metadata": {},
   "outputs": [],
   "source": []
  },
  {
   "cell_type": "code",
   "execution_count": null,
   "metadata": {},
   "outputs": [],
   "source": []
  }
 ],
 "metadata": {
  "kernelspec": {
   "display_name": "Python 3",
   "language": "python",
   "name": "python3"
  },
  "language_info": {
   "codemirror_mode": {
    "name": "ipython",
    "version": 3
   },
   "file_extension": ".py",
   "mimetype": "text/x-python",
   "name": "python",
   "nbconvert_exporter": "python",
   "pygments_lexer": "ipython3",
   "version": "3.7.3"
  },
  "varInspector": {
   "cols": {
    "lenName": 16,
    "lenType": 16,
    "lenVar": 40
   },
   "kernels_config": {
    "python": {
     "delete_cmd_postfix": "",
     "delete_cmd_prefix": "del ",
     "library": "var_list.py",
     "varRefreshCmd": "print(var_dic_list())"
    },
    "r": {
     "delete_cmd_postfix": ") ",
     "delete_cmd_prefix": "rm(",
     "library": "var_list.r",
     "varRefreshCmd": "cat(var_dic_list()) "
    }
   },
   "types_to_exclude": [
    "module",
    "function",
    "builtin_function_or_method",
    "instance",
    "_Feature"
   ],
   "window_display": false
  }
 },
 "nbformat": 4,
 "nbformat_minor": 2
}
