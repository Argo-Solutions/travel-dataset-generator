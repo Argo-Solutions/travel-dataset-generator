{
 "cells": [
  {
   "cell_type": "markdown",
   "metadata": {},
   "source": [
    "## Travel Dataset Generator\n",
    "\n",
    "This code generate a dataset of travel operations, _e.g._ , plane tickets and lodging.   \n",
    "This notebook just ilustrate the steps to generate the dataset, for extensive generators use the python code inside.   "
   ]
  },
  {
   "cell_type": "code",
   "execution_count": 1,
   "metadata": {
    "ExecuteTime": {
     "end_time": "2019-09-24T19:39:49.116019Z",
     "start_time": "2019-09-24T19:39:48.561472Z"
    }
   },
   "outputs": [],
   "source": [
    "# Import packages\n",
    "import names\n",
    "import tqdm\n",
    "\n",
    "import random\n",
    "import pandas as pd\n",
    "from datetime import datetime as dt\n",
    "from datetime import timedelta as td"
   ]
  },
  {
   "cell_type": "markdown",
   "metadata": {},
   "source": [
    "---\n",
    "### Definitions\n",
    "\n",
    "Predefine variables."
   ]
  },
  {
   "cell_type": "code",
   "execution_count": 2,
   "metadata": {
    "ExecuteTime": {
     "end_time": "2019-09-24T19:39:49.125984Z",
     "start_time": "2019-09-24T19:39:49.116987Z"
    }
   },
   "outputs": [],
   "source": [
    "#- Companies and Users\n",
    "defGenders = ['male', 'female', 'none']\n",
    "defAgesInterval = {'min': 23, 'max': 50}\n",
    "defFlightsInterval = {'min': 0, 'max': 3}\n",
    "defCompanies = {\n",
    "    'HHD': {'usersCount': 2},\n",
    "    '4You': {'usersCount': 3},\n",
    "}\n",
    "\n",
    "#- Flight Agencies\n",
    "defFlightTypes = {\n",
    "    'economic': {'price': 1.0},\n",
    "    'premium': {'price': 1.5},\n",
    "}\n",
    "defAgenciesName = ['FlyingDrops', 'Rainbow', 'CloudFy']\n",
    "defAgencies = dict()\n",
    "\n",
    "#- Places\n",
    "defPlacesName = ['Sao Paulo (SP)', 'Rio de Janeiro (RJ)', 'Santa Catarina (SC)']\n",
    "defPlaces = {name: dict() for name in defPlacesName}\n",
    "defDistancesInterval = {'min': 200.0, 'max': 850.0}\n",
    "defPlaceTravelKmPerHour = 400.0 \n",
    "\n",
    "#- Lodge (Accommodation)\n",
    "defLodgesInterval = {'min': 1, 'max': 3}\n",
    "defLodgesPrices   = {'min': 60.0, 'max': 200.0}\n",
    "defLodgesPrex = 'Hotel'\n",
    "defLodges = {name: list() for name in defPlacesName}\n",
    "\n",
    "#- Travel\n",
    "defTravels = list()\n",
    "defTravelsDays = {'min': 1, 'max': 3}\n",
    "defTravelsFlightPrices = {'init': 300.0, 'interval': 100.0}\n",
    "defTravelWithLodge = 0.3\n",
    "defTravelDate = {'init': dt.now(), 'interval':{'min': 10, 'max': 60}}"
   ]
  },
  {
   "cell_type": "markdown",
   "metadata": {},
   "source": [
    "---\n",
    "### Companies and Users - Generator"
   ]
  },
  {
   "cell_type": "code",
   "execution_count": 3,
   "metadata": {
    "ExecuteTime": {
     "end_time": "2019-09-24T19:39:49.141925Z",
     "start_time": "2019-09-24T19:39:49.128976Z"
    }
   },
   "outputs": [],
   "source": [
    "#- Functions\n",
    "def funcUserGenerator(genders, agesInterval, flightsInterval, code):\n",
    "    '''\n",
    "    Generate random user, based on predefinitions.\n",
    "    - genders: list\n",
    "    - agesInterval {min, max}: user age\n",
    "    - flightsInterval {min, max}: number of flights\n",
    "    - code: user ID\n",
    "    '''\n",
    "    user = dict()\n",
    "    user['code'] = code\n",
    "    user['gender'] = genders[random.randint(0, len(genders)-1)]\n",
    "    gender = user['gender'] if (user['gender'] != 'none') else False\n",
    "    user['name'] = names.get_full_name(gender=gender)\n",
    "    user['age'] = random.randint(agesInterval['min'], agesInterval['max'])\n",
    "    user['flights'] = random.randint(flightsInterval['min'], flightsInterval['max'])\n",
    "    return user"
   ]
  },
  {
   "cell_type": "code",
   "execution_count": 4,
   "metadata": {
    "ExecuteTime": {
     "end_time": "2019-09-24T19:39:49.160891Z",
     "start_time": "2019-09-24T19:39:49.143912Z"
    }
   },
   "outputs": [],
   "source": [
    "#- Fill Companies data\n",
    "userId = 0\n",
    "for company, data in defCompanies.items():\n",
    "    users = list()\n",
    "    for idx in range(data['usersCount']):\n",
    "        user = funcUserGenerator(defGenders, defAgesInterval, defFlightsInterval, userId)\n",
    "        users.append(user)\n",
    "        userId += 1\n",
    "    defCompanies[company]['users'] = users"
   ]
  },
  {
   "cell_type": "markdown",
   "metadata": {},
   "source": [
    "Example - Users from a Company"
   ]
  },
  {
   "cell_type": "code",
   "execution_count": 5,
   "metadata": {
    "ExecuteTime": {
     "end_time": "2019-09-24T19:39:49.177817Z",
     "start_time": "2019-09-24T19:39:49.161859Z"
    }
   },
   "outputs": [
    {
     "data": {
      "text/plain": [
       "[{'code': 0, 'gender': 'male', 'name': 'Steve Lee', 'age': 37, 'flights': 0},\n",
       " {'code': 1,\n",
       "  'gender': 'none',\n",
       "  'name': 'Richard Unger',\n",
       "  'age': 45,\n",
       "  'flights': 1}]"
      ]
     },
     "execution_count": 5,
     "metadata": {},
     "output_type": "execute_result"
    }
   ],
   "source": [
    "defCompanies['HHD']['users']"
   ]
  },
  {
   "cell_type": "markdown",
   "metadata": {},
   "source": [
    "### Flight Agencies - Generator"
   ]
  },
  {
   "cell_type": "code",
   "execution_count": 6,
   "metadata": {
    "ExecuteTime": {
     "end_time": "2019-09-24T19:39:49.189817Z",
     "start_time": "2019-09-24T19:39:49.179823Z"
    }
   },
   "outputs": [],
   "source": [
    "#- Functions\n",
    "def funcAgencyGenerator(flightTypes):\n",
    "    '''\n",
    "    Generate random agency services, based on predefinitions.\n",
    "    - flightTypes: types of flight\n",
    "    '''\n",
    "    agency = dict()\n",
    "    types = list(flightTypes.copy().keys())\n",
    "    random.shuffle(types)\n",
    "    typesMany = random.randint(1, len(types))\n",
    "    agency['types'] = [types[i] for i in range(typesMany)]\n",
    "    return agency"
   ]
  },
  {
   "cell_type": "code",
   "execution_count": 7,
   "metadata": {
    "ExecuteTime": {
     "end_time": "2019-09-24T19:39:49.204743Z",
     "start_time": "2019-09-24T19:39:49.191794Z"
    }
   },
   "outputs": [],
   "source": [
    "for agency in defAgenciesName:\n",
    "    defAgencies[agency] = funcAgencyGenerator(defFlightTypes)"
   ]
  },
  {
   "cell_type": "markdown",
   "metadata": {},
   "source": [
    "Example - Flight Types of Agencies"
   ]
  },
  {
   "cell_type": "code",
   "execution_count": 8,
   "metadata": {
    "ExecuteTime": {
     "end_time": "2019-09-24T19:39:49.220702Z",
     "start_time": "2019-09-24T19:39:49.207763Z"
    }
   },
   "outputs": [
    {
     "data": {
      "text/plain": [
       "{'FlyingDrops': {'types': ['economic']},\n",
       " 'Rainbow': {'types': ['economic']},\n",
       " 'CloudFy': {'types': ['economic', 'premium']}}"
      ]
     },
     "execution_count": 8,
     "metadata": {},
     "output_type": "execute_result"
    }
   ],
   "source": [
    "defAgencies"
   ]
  },
  {
   "cell_type": "markdown",
   "metadata": {},
   "source": [
    "### Places - Generator"
   ]
  },
  {
   "cell_type": "code",
   "execution_count": 9,
   "metadata": {
    "ExecuteTime": {
     "end_time": "2019-09-24T19:39:49.232685Z",
     "start_time": "2019-09-24T19:39:49.222696Z"
    }
   },
   "outputs": [],
   "source": [
    "#- Functions\n",
    "def funcPlaceGenerator(i, j, distInterval, kmPerHour):\n",
    "    '''\n",
    "    Generate random place distances, based on predefinitions.\n",
    "    - i: number of place\n",
    "    - j: number of place\n",
    "    - distInterval {min, max} values: distance range\n",
    "    - kmPerHour: km per hour of the plain\n",
    "    '''\n",
    "    if i == j:\n",
    "        return False, False, False\n",
    "    distance = round(random.uniform(distInterval['min'], distInterval['max']), 2)\n",
    "    time = round(distance/kmPerHour, 2)\n",
    "    hours = int(time)\n",
    "    minutes = (time*60) % 60\n",
    "    timeMsg = '%d:%dh' % (hours, minutes)\n",
    "    return (distance, time, timeMsg)"
   ]
  },
  {
   "cell_type": "code",
   "execution_count": 10,
   "metadata": {
    "ExecuteTime": {
     "end_time": "2019-09-24T19:39:49.246632Z",
     "start_time": "2019-09-24T19:39:49.234679Z"
    }
   },
   "outputs": [],
   "source": [
    "n = len(defPlacesName)\n",
    "for i in range(n):\n",
    "    for j in range(i, n):\n",
    "        fromPlace = defPlacesName[i]\n",
    "        toPlace = defPlacesName[j]\n",
    "        distance, time, msg = funcPlaceGenerator(i, j, defDistancesInterval, defPlaceTravelKmPerHour)\n",
    "        if distance and time:\n",
    "            place = {'distance': distance, 'time': time, 'timeMsg': msg}\n",
    "            defPlaces[fromPlace][toPlace] = place\n",
    "            defPlaces[toPlace][fromPlace] = place"
   ]
  },
  {
   "cell_type": "markdown",
   "metadata": {},
   "source": [
    "Example - Distances from a Place"
   ]
  },
  {
   "cell_type": "code",
   "execution_count": 11,
   "metadata": {
    "ExecuteTime": {
     "end_time": "2019-09-24T19:39:49.267605Z",
     "start_time": "2019-09-24T19:39:49.248627Z"
    }
   },
   "outputs": [
    {
     "data": {
      "text/plain": [
       "{'Rio de Janeiro (RJ)': {'distance': 687.86, 'time': 1.72, 'timeMsg': '1:43h'},\n",
       " 'Santa Catarina (SC)': {'distance': 269.56, 'time': 0.67, 'timeMsg': '0:40h'}}"
      ]
     },
     "execution_count": 11,
     "metadata": {},
     "output_type": "execute_result"
    }
   ],
   "source": [
    "defPlaces['Sao Paulo (SP)']"
   ]
  },
  {
   "cell_type": "markdown",
   "metadata": {},
   "source": [
    "### Lodges - Generator"
   ]
  },
  {
   "cell_type": "code",
   "execution_count": 12,
   "metadata": {
    "ExecuteTime": {
     "end_time": "2019-09-24T19:39:49.280542Z",
     "start_time": "2019-09-24T19:39:49.269576Z"
    }
   },
   "outputs": [],
   "source": [
    "#- Definitions\n",
    "defName = 'A'\n",
    "\n",
    "\n",
    "#- Functions\n",
    "def getNextChar(text):\n",
    "    '''\n",
    "    Generate order alphabetic.\n",
    "    - text: input text\n",
    "    '''\n",
    "    if len(text) == 0:\n",
    "        return 'A'\n",
    "    nextChar = chr(ord(text[-1]) + 1)\n",
    "    if nextChar <= 'Z':\n",
    "        text = text[:-1] + nextChar\n",
    "    else:\n",
    "        text = getNextChar(text[:-1]) + 'A'\n",
    "    return text\n",
    "\n",
    "\n",
    "def funcLodgesGenerator(lodgesInterval, lodgesPrices):\n",
    "    '''\n",
    "    Generate random lodges, based on predefinitions.\n",
    "    - lodgesInterval {min, max} values: number of hotels\n",
    "    - lodgesPrices {min, max} values: hotel range\n",
    "    '''\n",
    "    global defName\n",
    "    lodges = list()\n",
    "    n = random.randint(lodgesInterval['min'], lodgesInterval['max'])\n",
    "    for i in range(n):\n",
    "        lodgeName = '%s %s' % (defLodgesPrex, defName)\n",
    "        price = round(random.uniform(lodgesPrices['min'], lodgesPrices['max']), 2)\n",
    "        lodge = {'code': defName, 'name': lodgeName, 'price': price}\n",
    "        lodges.append(lodge)\n",
    "        defName = getNextChar(defName)\n",
    "    return lodges"
   ]
  },
  {
   "cell_type": "code",
   "execution_count": 13,
   "metadata": {
    "ExecuteTime": {
     "end_time": "2019-09-24T19:39:49.294536Z",
     "start_time": "2019-09-24T19:39:49.281569Z"
    }
   },
   "outputs": [],
   "source": [
    "for name in defPlacesName:\n",
    "    lodges = funcLodgesGenerator(defLodgesInterval, defLodgesPrices)\n",
    "    defLodges[name] = lodges"
   ]
  },
  {
   "cell_type": "markdown",
   "metadata": {},
   "source": [
    "Example - Hotels from a Place"
   ]
  },
  {
   "cell_type": "code",
   "execution_count": 14,
   "metadata": {
    "ExecuteTime": {
     "end_time": "2019-09-24T19:39:49.310462Z",
     "start_time": "2019-09-24T19:39:49.296499Z"
    }
   },
   "outputs": [
    {
     "data": {
      "text/plain": [
       "[{'code': 'A', 'name': 'Hotel A', 'price': 76.73}]"
      ]
     },
     "execution_count": 14,
     "metadata": {},
     "output_type": "execute_result"
    }
   ],
   "source": [
    "defLodges['Sao Paulo (SP)']"
   ]
  },
  {
   "cell_type": "markdown",
   "metadata": {
    "ExecuteTime": {
     "end_time": "2019-09-24T12:53:42.242324Z",
     "start_time": "2019-09-24T12:53:42.239328Z"
    }
   },
   "source": [
    "### Travel Possibilities - Generator"
   ]
  },
  {
   "cell_type": "code",
   "execution_count": 15,
   "metadata": {
    "ExecuteTime": {
     "end_time": "2019-09-24T19:39:49.327454Z",
     "start_time": "2019-09-24T19:39:49.312474Z"
    }
   },
   "outputs": [],
   "source": [
    "#- Functions\n",
    "def funcCalculatePrice(priceMin, priceMax, weight):\n",
    "    '''\n",
    "    Calculate a random price for a travel.\n",
    "    - priceMin: min price\n",
    "    - priceMax: max price\n",
    "    - weight: weight the price range\n",
    "    '''\n",
    "    priceMin = priceMin * weight\n",
    "    priceMax = priceMax * weight\n",
    "    price = round(random.uniform(priceMin, priceMax), 2)\n",
    "    return price\n",
    "\n",
    "\n",
    "def funcElaborateflight(fromPlace, toPlace, distance, agency, flightType, price, \\\n",
    "                        time, timeMsg):\n",
    "    '''\n",
    "    Elaborate a possible flight.\n",
    "    - fromPlace: from\n",
    "    - toPlace: to\n",
    "    - distance: distance\n",
    "    - agency: agency name\n",
    "    - flightType: flight type\n",
    "    - price: flight price\n",
    "    - time: time in hours\n",
    "    - timeMsg: time calculated\n",
    "    '''\n",
    "    flight = {'from': fromPlace, 'to': toPlace, 'distance': distance,\n",
    "              'agency': agency, 'flightType': flightType, 'price': price,\n",
    "              'time': time, 'timeMsg': timeMsg}\n",
    "    return flight\n",
    "\n",
    "\n",
    "def funcFlightsPossibilities(places, flightPrices, flightTypes, agencies):\n",
    "    '''\n",
    "    Elaborate a list of possible flights.\n",
    "    - places: places data\n",
    "    - flightPrices: flight prices\n",
    "    - flightTypes: flight types\n",
    "    - agencies: agencies data\n",
    "    '''\n",
    "    flightsPossibilities = list()\n",
    "    for fromPlace, toPlaces in places.items():\n",
    "        toPlacesSorted = sorted(toPlaces.items(), key=lambda x:x[1]['distance'], reverse=False)\n",
    "        priceA, priceB = flightPrices['init'], \\\n",
    "                         flightPrices['init'] + flightPrices['interval']\n",
    "        for (toPlace, placeData) in toPlacesSorted:\n",
    "            for (agencyName, agencyData) in agencies.items():\n",
    "                if len(agencyData['types']) > 1: # has more than 1 element\n",
    "                    for typeA in agencyData['types']:\n",
    "                        weight = flightTypes[typeA]['price']\n",
    "                        price = funcCalculatePrice(priceA, priceB, weight)\n",
    "                        flight = funcElaborateflight(fromPlace, toPlace, placeData['distance'], \\\n",
    "                                                     agencyName, typeA, price, placeData['time'], placeData['timeMsg'])\n",
    "                        flightsPossibilities.append(flight)\n",
    "                else:\n",
    "                    typeA = agencyData['types'][0]\n",
    "                    weight = flightTypes[typeA]['price']\n",
    "                    price = funcCalculatePrice(priceA, priceB, weight)\n",
    "                    flight = funcElaborateflight(fromPlace, toPlace, placeData['distance'], agencyName, \\\n",
    "                                                 typeA, price, placeData['time'], placeData['timeMsg'])\n",
    "                    flightsPossibilities.append(flight)\n",
    "            # Update prices for bigger distances\n",
    "            priceA, priceB = priceB, priceB + flightPrices['interval']\n",
    "    return flightsPossibilities\n",
    "\n",
    "\n",
    "def funcLodgesPossibilities(placesName, lodges):\n",
    "    '''\n",
    "    Elaborate a list of possible hotels.\n",
    "    - placesName: places names\n",
    "    - lodges: lodges data\n",
    "    '''\n",
    "    lodgesPossibilities = list()\n",
    "    for place in placesName:\n",
    "        for lodge in lodges[place]:\n",
    "            lodge = lodge.copy()\n",
    "            lodge['place'] = place\n",
    "            lodgesPossibilities.append(lodge)\n",
    "    return lodgesPossibilities"
   ]
  },
  {
   "cell_type": "markdown",
   "metadata": {},
   "source": [
    "Example - Fligts Possibilities (for each Place)"
   ]
  },
  {
   "cell_type": "code",
   "execution_count": 16,
   "metadata": {
    "ExecuteTime": {
     "end_time": "2019-09-24T19:39:49.341379Z",
     "start_time": "2019-09-24T19:39:49.328447Z"
    }
   },
   "outputs": [],
   "source": [
    "flightsPossibilities = funcFlightsPossibilities(defPlaces, defTravelsFlightPrices, defFlightTypes, defAgencies)"
   ]
  },
  {
   "cell_type": "code",
   "execution_count": 17,
   "metadata": {
    "ExecuteTime": {
     "end_time": "2019-09-24T19:39:49.372333Z",
     "start_time": "2019-09-24T19:39:49.343374Z"
    }
   },
   "outputs": [
    {
     "data": {
      "text/html": [
       "<div>\n",
       "<style scoped>\n",
       "    .dataframe tbody tr th:only-of-type {\n",
       "        vertical-align: middle;\n",
       "    }\n",
       "\n",
       "    .dataframe tbody tr th {\n",
       "        vertical-align: top;\n",
       "    }\n",
       "\n",
       "    .dataframe thead th {\n",
       "        text-align: right;\n",
       "    }\n",
       "</style>\n",
       "<table border=\"1\" class=\"dataframe\">\n",
       "  <thead>\n",
       "    <tr style=\"text-align: right;\">\n",
       "      <th></th>\n",
       "      <th>agency</th>\n",
       "      <th>distance</th>\n",
       "      <th>flightType</th>\n",
       "      <th>from</th>\n",
       "      <th>price</th>\n",
       "      <th>time</th>\n",
       "      <th>timeMsg</th>\n",
       "      <th>to</th>\n",
       "    </tr>\n",
       "  </thead>\n",
       "  <tbody>\n",
       "    <tr>\n",
       "      <th>0</th>\n",
       "      <td>FlyingDrops</td>\n",
       "      <td>269.56</td>\n",
       "      <td>economic</td>\n",
       "      <td>Sao Paulo (SP)</td>\n",
       "      <td>385.48</td>\n",
       "      <td>0.67</td>\n",
       "      <td>0:40h</td>\n",
       "      <td>Santa Catarina (SC)</td>\n",
       "    </tr>\n",
       "    <tr>\n",
       "      <th>1</th>\n",
       "      <td>Rainbow</td>\n",
       "      <td>269.56</td>\n",
       "      <td>economic</td>\n",
       "      <td>Sao Paulo (SP)</td>\n",
       "      <td>360.66</td>\n",
       "      <td>0.67</td>\n",
       "      <td>0:40h</td>\n",
       "      <td>Santa Catarina (SC)</td>\n",
       "    </tr>\n",
       "    <tr>\n",
       "      <th>2</th>\n",
       "      <td>CloudFy</td>\n",
       "      <td>269.56</td>\n",
       "      <td>economic</td>\n",
       "      <td>Sao Paulo (SP)</td>\n",
       "      <td>330.57</td>\n",
       "      <td>0.67</td>\n",
       "      <td>0:40h</td>\n",
       "      <td>Santa Catarina (SC)</td>\n",
       "    </tr>\n",
       "    <tr>\n",
       "      <th>3</th>\n",
       "      <td>CloudFy</td>\n",
       "      <td>269.56</td>\n",
       "      <td>premium</td>\n",
       "      <td>Sao Paulo (SP)</td>\n",
       "      <td>474.55</td>\n",
       "      <td>0.67</td>\n",
       "      <td>0:40h</td>\n",
       "      <td>Santa Catarina (SC)</td>\n",
       "    </tr>\n",
       "    <tr>\n",
       "      <th>4</th>\n",
       "      <td>FlyingDrops</td>\n",
       "      <td>687.86</td>\n",
       "      <td>economic</td>\n",
       "      <td>Sao Paulo (SP)</td>\n",
       "      <td>400.64</td>\n",
       "      <td>1.72</td>\n",
       "      <td>1:43h</td>\n",
       "      <td>Rio de Janeiro (RJ)</td>\n",
       "    </tr>\n",
       "  </tbody>\n",
       "</table>\n",
       "</div>"
      ],
      "text/plain": [
       "        agency  distance flightType            from   price  time timeMsg  \\\n",
       "0  FlyingDrops    269.56   economic  Sao Paulo (SP)  385.48  0.67   0:40h   \n",
       "1      Rainbow    269.56   economic  Sao Paulo (SP)  360.66  0.67   0:40h   \n",
       "2      CloudFy    269.56   economic  Sao Paulo (SP)  330.57  0.67   0:40h   \n",
       "3      CloudFy    269.56    premium  Sao Paulo (SP)  474.55  0.67   0:40h   \n",
       "4  FlyingDrops    687.86   economic  Sao Paulo (SP)  400.64  1.72   1:43h   \n",
       "\n",
       "                    to  \n",
       "0  Santa Catarina (SC)  \n",
       "1  Santa Catarina (SC)  \n",
       "2  Santa Catarina (SC)  \n",
       "3  Santa Catarina (SC)  \n",
       "4  Rio de Janeiro (RJ)  "
      ]
     },
     "execution_count": 17,
     "metadata": {},
     "output_type": "execute_result"
    }
   ],
   "source": [
    "pd.DataFrame(flightsPossibilities).head(5)"
   ]
  },
  {
   "cell_type": "markdown",
   "metadata": {
    "ExecuteTime": {
     "end_time": "2019-09-24T14:52:18.218222Z",
     "start_time": "2019-09-24T14:52:18.212240Z"
    }
   },
   "source": [
    "Example - Hotel Possibilities (for each Place)"
   ]
  },
  {
   "cell_type": "code",
   "execution_count": 18,
   "metadata": {
    "ExecuteTime": {
     "end_time": "2019-09-24T19:39:49.380305Z",
     "start_time": "2019-09-24T19:39:49.376315Z"
    }
   },
   "outputs": [],
   "source": [
    "lodgesPossibilities = funcLodgesPossibilities(defPlacesName, defLodges)"
   ]
  },
  {
   "cell_type": "code",
   "execution_count": 19,
   "metadata": {
    "ExecuteTime": {
     "end_time": "2019-09-24T19:39:49.398227Z",
     "start_time": "2019-09-24T19:39:49.383271Z"
    }
   },
   "outputs": [
    {
     "data": {
      "text/html": [
       "<div>\n",
       "<style scoped>\n",
       "    .dataframe tbody tr th:only-of-type {\n",
       "        vertical-align: middle;\n",
       "    }\n",
       "\n",
       "    .dataframe tbody tr th {\n",
       "        vertical-align: top;\n",
       "    }\n",
       "\n",
       "    .dataframe thead th {\n",
       "        text-align: right;\n",
       "    }\n",
       "</style>\n",
       "<table border=\"1\" class=\"dataframe\">\n",
       "  <thead>\n",
       "    <tr style=\"text-align: right;\">\n",
       "      <th></th>\n",
       "      <th>code</th>\n",
       "      <th>name</th>\n",
       "      <th>place</th>\n",
       "      <th>price</th>\n",
       "    </tr>\n",
       "  </thead>\n",
       "  <tbody>\n",
       "    <tr>\n",
       "      <th>0</th>\n",
       "      <td>A</td>\n",
       "      <td>Hotel A</td>\n",
       "      <td>Sao Paulo (SP)</td>\n",
       "      <td>76.73</td>\n",
       "    </tr>\n",
       "    <tr>\n",
       "      <th>1</th>\n",
       "      <td>B</td>\n",
       "      <td>Hotel B</td>\n",
       "      <td>Rio de Janeiro (RJ)</td>\n",
       "      <td>178.82</td>\n",
       "    </tr>\n",
       "    <tr>\n",
       "      <th>2</th>\n",
       "      <td>C</td>\n",
       "      <td>Hotel C</td>\n",
       "      <td>Rio de Janeiro (RJ)</td>\n",
       "      <td>137.23</td>\n",
       "    </tr>\n",
       "    <tr>\n",
       "      <th>3</th>\n",
       "      <td>D</td>\n",
       "      <td>Hotel D</td>\n",
       "      <td>Rio de Janeiro (RJ)</td>\n",
       "      <td>124.55</td>\n",
       "    </tr>\n",
       "    <tr>\n",
       "      <th>4</th>\n",
       "      <td>E</td>\n",
       "      <td>Hotel E</td>\n",
       "      <td>Santa Catarina (SC)</td>\n",
       "      <td>85.15</td>\n",
       "    </tr>\n",
       "  </tbody>\n",
       "</table>\n",
       "</div>"
      ],
      "text/plain": [
       "  code     name                place   price\n",
       "0    A  Hotel A       Sao Paulo (SP)   76.73\n",
       "1    B  Hotel B  Rio de Janeiro (RJ)  178.82\n",
       "2    C  Hotel C  Rio de Janeiro (RJ)  137.23\n",
       "3    D  Hotel D  Rio de Janeiro (RJ)  124.55\n",
       "4    E  Hotel E  Santa Catarina (SC)   85.15"
      ]
     },
     "execution_count": 19,
     "metadata": {},
     "output_type": "execute_result"
    }
   ],
   "source": [
    "pd.DataFrame(lodgesPossibilities).head(5)"
   ]
  },
  {
   "cell_type": "markdown",
   "metadata": {},
   "source": [
    "---\n",
    "### Travel Dataset - Generator"
   ]
  },
  {
   "cell_type": "code",
   "execution_count": 20,
   "metadata": {
    "ExecuteTime": {
     "end_time": "2019-09-24T19:39:49.416179Z",
     "start_time": "2019-09-24T19:39:49.399224Z"
    }
   },
   "outputs": [],
   "source": [
    "#- Definitions\n",
    "travelCode = 0\n",
    "\n",
    "\n",
    "#- Functions\n",
    "def df2Dict(df):\n",
    "    '''\n",
    "    Convert dataframe into dict\n",
    "    '''\n",
    "    procDict = dict()\n",
    "    tmp = df.to_dict('split')\n",
    "    data = tmp['data'][0]\n",
    "    for (i, column) in enumerate(tmp['columns']):\n",
    "        procDict[column] = data[i]\n",
    "    return procDict\n",
    "\n",
    "\n",
    "def funcTravelsSimulated(companies, flightsPossibilities, lodgesPossibilities, travelDate, travelsDays, \\\n",
    "                         travelWithLodge, placesName):\n",
    "    '''\n",
    "    Elaborate random travels with flights and lodges, based on possibilities.\n",
    "    - flightsPossibilities: possible flights\n",
    "    - lodgesPossibilities: possible hotels\n",
    "    '''\n",
    "    global travelCode\n",
    "    dfFlightsPos = pd.DataFrame(flightsPossibilities)\n",
    "    dfLodgesPos = pd.DataFrame(lodgesPossibilities)\n",
    "    flightsSimulated, lodgesSimulated = list(), list()\n",
    "    for (companyName, companyData) in companies.items():\n",
    "        for user in companyData['users']:\n",
    "            date = travelDate['init']\n",
    "            for i in range(user['flights']):\n",
    "                # random - days, places, hotel?\n",
    "                daysFlight = random.randint(travelsDays['min'], travelsDays['max'])\n",
    "                daysNextTravel = random.randint(travelDate['interval']['min'], travelDate['interval']['min'])\n",
    "                fromPlace, toPlace = random.sample(placesName, 2)\n",
    "                chanceTravelWithLodge = (random.randrange(100) < travelWithLodge*100)\n",
    "                # travels\n",
    "                fromConditions = (dfFlightsPos['from']==fromPlace) & (dfFlightsPos['to']==toPlace)\n",
    "                tmpFlightFrom  = df2Dict(dfFlightsPos[fromConditions].sample(n=1))\n",
    "                toConditions = (dfFlightsPos['from']==toPlace) & (dfFlightsPos['to']==fromPlace) & \\\n",
    "                               (dfFlightsPos['agency']==tmpFlightFrom['agency']) & \\\n",
    "                               (dfFlightsPos['flightType']==tmpFlightFrom['flightType'])\n",
    "                tmpFlightTo  = df2Dict(dfFlightsPos[toConditions])\n",
    "                tmpFlightFrom['userCode'] = tmpFlightTo['userCode'] = user['code']\n",
    "                tmpFlightFrom['travelCode'] = tmpFlightTo['travelCode'] = travelCode\n",
    "                tmpFlightFrom['date'] = date\n",
    "                tmpFlightTo['date']   = date + td(days=daysFlight)\n",
    "                # lodge\n",
    "                if chanceTravelWithLodge:\n",
    "                    lodgeConditions = (dfLodgesPos['place']==toPlace)\n",
    "                    tmpLodge = df2Dict(dfLodgesPos[lodgeConditions])\n",
    "                    tmpLodge['userCode'] = user['code']\n",
    "                    tmpLodge['date'] = date\n",
    "                    tmpLodge['days'] = daysFlight\n",
    "                    tmpLodge['total'] = round(tmpLodge['price'] * daysFlight, 2)\n",
    "                    tmpLodge['travelCode'] = travelCode\n",
    "                    lodgesSimulated.append(tmpLodge)\n",
    "                # save and update data\n",
    "                flightsSimulated.append(tmpFlightFrom)\n",
    "                flightsSimulated.append(tmpFlightTo)\n",
    "                travelCode += 1\n",
    "                date = dt.now() + td(days=daysNextTravel)\n",
    "    return flightsSimulated, lodgesSimulated"
   ]
  },
  {
   "cell_type": "code",
   "execution_count": 21,
   "metadata": {
    "ExecuteTime": {
     "end_time": "2019-09-24T19:39:49.468087Z",
     "start_time": "2019-09-24T19:39:49.418175Z"
    }
   },
   "outputs": [],
   "source": [
    "flightsSimulated, lodgesSimulated = \\\n",
    "        funcTravelsSimulated(defCompanies, flightsPossibilities, lodgesPossibilities, \n",
    "        defTravelDate, defTravelsDays, defTravelWithLodge, defPlacesName)"
   ]
  },
  {
   "cell_type": "markdown",
   "metadata": {},
   "source": [
    "Example - Travel (From->To + To->From)"
   ]
  },
  {
   "cell_type": "code",
   "execution_count": 22,
   "metadata": {
    "ExecuteTime": {
     "end_time": "2019-09-24T19:39:49.475053Z",
     "start_time": "2019-09-24T19:39:49.469039Z"
    }
   },
   "outputs": [
    {
     "data": {
      "text/plain": [
       "[{'agency': 'CloudFy',\n",
       "  'distance': 619.11,\n",
       "  'flightType': 'economic',\n",
       "  'from': 'Rio de Janeiro (RJ)',\n",
       "  'price': 388.15,\n",
       "  'time': 1.55,\n",
       "  'timeMsg': '1:33h',\n",
       "  'to': 'Santa Catarina (SC)',\n",
       "  'userCode': 1,\n",
       "  'travelCode': 0,\n",
       "  'date': datetime.datetime(2019, 9, 24, 16, 39, 49, 122962)},\n",
       " {'agency': 'CloudFy',\n",
       "  'distance': 619.11,\n",
       "  'flightType': 'economic',\n",
       "  'from': 'Santa Catarina (SC)',\n",
       "  'price': 409.21,\n",
       "  'time': 1.55,\n",
       "  'timeMsg': '1:33h',\n",
       "  'to': 'Rio de Janeiro (RJ)',\n",
       "  'userCode': 1,\n",
       "  'travelCode': 0,\n",
       "  'date': datetime.datetime(2019, 9, 26, 16, 39, 49, 122962)}]"
      ]
     },
     "execution_count": 22,
     "metadata": {},
     "output_type": "execute_result"
    }
   ],
   "source": [
    "flightsSimulated[0:2]"
   ]
  },
  {
   "cell_type": "code",
   "execution_count": 23,
   "metadata": {
    "ExecuteTime": {
     "end_time": "2019-09-24T19:39:49.488985Z",
     "start_time": "2019-09-24T19:39:49.476020Z"
    }
   },
   "outputs": [
    {
     "data": {
      "text/plain": [
       "{'code': 'A',\n",
       " 'name': 'Hotel A',\n",
       " 'place': 'Sao Paulo (SP)',\n",
       " 'price': 76.73,\n",
       " 'userCode': 2,\n",
       " 'date': datetime.datetime(2019, 9, 24, 16, 39, 49, 122962),\n",
       " 'days': 2,\n",
       " 'total': 153.46,\n",
       " 'travelCode': 1}"
      ]
     },
     "execution_count": 23,
     "metadata": {},
     "output_type": "execute_result"
    }
   ],
   "source": [
    "lodgesSimulated[0]"
   ]
  },
  {
   "cell_type": "code",
   "execution_count": null,
   "metadata": {},
   "outputs": [],
   "source": []
  }
 ],
 "metadata": {
  "kernelspec": {
   "display_name": "Python 3",
   "language": "python",
   "name": "python3"
  },
  "language_info": {
   "codemirror_mode": {
    "name": "ipython",
    "version": 3
   },
   "file_extension": ".py",
   "mimetype": "text/x-python",
   "name": "python",
   "nbconvert_exporter": "python",
   "pygments_lexer": "ipython3",
   "version": "3.7.3"
  },
  "varInspector": {
   "cols": {
    "lenName": 16,
    "lenType": 16,
    "lenVar": 40
   },
   "kernels_config": {
    "python": {
     "delete_cmd_postfix": "",
     "delete_cmd_prefix": "del ",
     "library": "var_list.py",
     "varRefreshCmd": "print(var_dic_list())"
    },
    "r": {
     "delete_cmd_postfix": ") ",
     "delete_cmd_prefix": "rm(",
     "library": "var_list.r",
     "varRefreshCmd": "cat(var_dic_list()) "
    }
   },
   "types_to_exclude": [
    "module",
    "function",
    "builtin_function_or_method",
    "instance",
    "_Feature"
   ],
   "window_display": false
  }
 },
 "nbformat": 4,
 "nbformat_minor": 2
}
